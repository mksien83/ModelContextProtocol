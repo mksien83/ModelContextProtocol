{
 "cells": [
  {
   "cell_type": "code",
   "execution_count": 2,
   "id": "345f9e4c-2004-4bbf-95dc-4acdfea82fde",
   "metadata": {},
   "outputs": [
    {
     "ename": "RuntimeError",
     "evalue": "asyncio.run() cannot be called from a running event loop",
     "output_type": "error",
     "traceback": [
      "\u001b[1;31m---------------------------------------------------------------------------\u001b[0m",
      "\u001b[1;31mRuntimeError\u001b[0m                              Traceback (most recent call last)",
      "Cell \u001b[1;32mIn[2], line 70\u001b[0m\n\u001b[0;32m     67\u001b[0m           \u001b[38;5;28;01mfor\u001b[39;00m text \u001b[38;5;129;01min\u001b[39;00m responses:\n\u001b[0;32m     68\u001b[0m             \u001b[38;5;28mprint\u001b[39m(text)\n\u001b[1;32m---> 70\u001b[0m asyncio\u001b[38;5;241m.\u001b[39mrun(main())\n",
      "File \u001b[1;32m~\\anaconda3\\Lib\\asyncio\\runners.py:190\u001b[0m, in \u001b[0;36mrun\u001b[1;34m(main, debug, loop_factory)\u001b[0m\n\u001b[0;32m    161\u001b[0m \u001b[38;5;250m\u001b[39m\u001b[38;5;124;03m\"\"\"Execute the coroutine and return the result.\u001b[39;00m\n\u001b[0;32m    162\u001b[0m \n\u001b[0;32m    163\u001b[0m \u001b[38;5;124;03mThis function runs the passed coroutine, taking care of\u001b[39;00m\n\u001b[1;32m   (...)\u001b[0m\n\u001b[0;32m    186\u001b[0m \u001b[38;5;124;03m    asyncio.run(main())\u001b[39;00m\n\u001b[0;32m    187\u001b[0m \u001b[38;5;124;03m\"\"\"\u001b[39;00m\n\u001b[0;32m    188\u001b[0m \u001b[38;5;28;01mif\u001b[39;00m events\u001b[38;5;241m.\u001b[39m_get_running_loop() \u001b[38;5;129;01mis\u001b[39;00m \u001b[38;5;129;01mnot\u001b[39;00m \u001b[38;5;28;01mNone\u001b[39;00m:\n\u001b[0;32m    189\u001b[0m     \u001b[38;5;66;03m# fail fast with short traceback\u001b[39;00m\n\u001b[1;32m--> 190\u001b[0m     \u001b[38;5;28;01mraise\u001b[39;00m \u001b[38;5;167;01mRuntimeError\u001b[39;00m(\n\u001b[0;32m    191\u001b[0m         \u001b[38;5;124m\"\u001b[39m\u001b[38;5;124masyncio.run() cannot be called from a running event loop\u001b[39m\u001b[38;5;124m\"\u001b[39m)\n\u001b[0;32m    193\u001b[0m \u001b[38;5;28;01mwith\u001b[39;00m Runner(debug\u001b[38;5;241m=\u001b[39mdebug, loop_factory\u001b[38;5;241m=\u001b[39mloop_factory) \u001b[38;5;28;01mas\u001b[39;00m runner:\n\u001b[0;32m    194\u001b[0m     \u001b[38;5;28;01mreturn\u001b[39;00m runner\u001b[38;5;241m.\u001b[39mrun(main)\n",
      "\u001b[1;31mRuntimeError\u001b[0m: asyncio.run() cannot be called from a running event loop"
     ]
    }
   ],
   "source": [
    "from google.adk.agents import Agent\n",
    "from google.adk.runners import Runner\n",
    "from google.adk.sessions import InMemorySessionService\n",
    "from google.adk.artifacts.in_memory_artifact_service import InMemoryArtifactService\n",
    "from google.genai import types\n",
    "from toolbox_core import ToolboxSyncClient\n",
    "\n",
    "import asyncio\n",
    "import os\n",
    "\n",
    "# TODO(developer): replace this with your Google API key\n",
    "\n",
    "os.environ['GOOGLE_API_KEY'] = 'your-api-key'\n",
    "\n",
    "async def main():\n",
    "  with ToolboxSyncClient(\"<http://127.0.0.1:5000>\") as toolbox_client:\n",
    "\n",
    "      prompt = \"\"\"\n",
    "        You're a helpful hotel assistant. You handle hotel searching, booking and\n",
    "        cancellations. When the user searches for a hotel, mention it's name, id,\n",
    "        location and price tier. Always mention hotel ids while performing any\n",
    "        searches. This is very important for any operations. For any bookings or\n",
    "        cancellations, please provide the appropriate confirmation. Be sure to\n",
    "        update checkin or checkout dates if mentioned by the user.\n",
    "        Don't ask for confirmations from the user.\n",
    "      \"\"\"\n",
    "\n",
    "      root_agent = Agent(\n",
    "          model='gemini-2.0-flash-001',\n",
    "          name='hotel_agent',\n",
    "          description='A helpful AI assistant.',\n",
    "          instruction=prompt,\n",
    "          tools=toolbox_client.load_toolset(\"my-toolset\"),\n",
    "      )\n",
    "\n",
    "      session_service = InMemorySessionService()\n",
    "      artifacts_service = InMemoryArtifactService()\n",
    "      session = await session_service.create_session(\n",
    "          state={}, app_name='hotel_agent', user_id='123'\n",
    "      )\n",
    "      runner = Runner(\n",
    "          app_name='hotel_agent',\n",
    "          agent=root_agent,\n",
    "          artifact_service=artifacts_service,\n",
    "          session_service=session_service,\n",
    "      )\n",
    "\n",
    "      queries = [\n",
    "          \"Find hotels in Basel with Basel in its name.\",\n",
    "          \"Can you book the Hilton Basel for me?\",\n",
    "          \"Oh wait, this is too expensive. Please cancel it and book the Hyatt Regency instead.\",\n",
    "          \"My check in dates would be from April 10, 2024 to April 19, 2024.\",\n",
    "      ]\n",
    "\n",
    "      for query in queries:\n",
    "          content = types.Content(role='user', parts=[types.Part(text=query)])\n",
    "          events = runner.run(session_id=session.id,\n",
    "                              user_id='123', new_message=content)\n",
    "\n",
    "          responses = (\n",
    "            part.text\n",
    "            for event in events\n",
    "            for part in event.content.parts\n",
    "            if part.text is not None\n",
    "          )\n",
    "\n",
    "          for text in responses:\n",
    "            print(text)\n",
    "\n",
    "asyncio.run(main())\n"
   ]
  },
  {
   "cell_type": "code",
   "execution_count": null,
   "id": "f908e0ae-44b5-42d1-a246-e927b6651804",
   "metadata": {},
   "outputs": [],
   "source": []
  }
 ],
 "metadata": {
  "kernelspec": {
   "display_name": "Python 3 (ipykernel)",
   "language": "python",
   "name": "python3"
  },
  "language_info": {
   "codemirror_mode": {
    "name": "ipython",
    "version": 3
   },
   "file_extension": ".py",
   "mimetype": "text/x-python",
   "name": "python",
   "nbconvert_exporter": "python",
   "pygments_lexer": "ipython3",
   "version": "3.12.7"
  }
 },
 "nbformat": 4,
 "nbformat_minor": 5
}
